#returns daily S&P500 4x4 transition matrix based on past 10 yrs of daily S&P500 returns
#respective states from leftmost to rightmost column: 
#  change <= -1.5% 
#  -1.5% < change <= 0%
#  0% < change <= 1%
#  1% < change

import pandas as pd
from matplotlib import pyplot as plt

sample_data = pd.read_csv('S&P 500 Historical Data Daily 10yr.csv')

for i in range(0, len(sample_data.change)):
    sample_data.change[i] = sample_data.change[i][:-1]

slota=0
slotb=0
slotc=0
slotd=0
slote=0
slotf=0
slotg=0
sloth=0
sloti=0
slotj=0
slotk=0
slotl=0
slotm=0
slotn=0
sloto=0
slotp=0

totw=0
totx=0
toty=0
totz=0

for i in range(1,len(sample_data.change)):
    if float(sample_data.change[len(sample_data.change) - i]) <= -1.5 and float(sample_data.change[len(sample_data.change) - (i+1)]) <= -1.5:
        totw = totw + 1
        slota =  slota + 1
    if float(sample_data.change[len(sample_data.change) - i]) <= -1.5 and float(sample_data.change[len(sample_data.change) - (i+1)]) > -1.5 and float(sample_data.change[len(sample_data.change) - (i+1)]) <= 0:
        totw = totw + 1
        slotb =  slotb + 1
    if float(sample_data.change[len(sample_data.change) - i]) <= -1.5 and float(sample_data.change[len(sample_data.change) - (i+1)]) > 0 and float(sample_data.change[len(sample_data.change) - (i+1)]) <= 1:
        totw = totw + 1
        slotc = slotc + 1
    if float(sample_data.change[len(sample_data.change) - i]) <= -1.5 and float(sample_data.change[len(sample_data.change) - (i+1)]) > 1:
        totw = totw + 1
        slotd =  slotd + 1
    if float(sample_data.change[len(sample_data.change) - i]) > -1.5 and float(sample_data.change[len(sample_data.change) - i]) <= 0 and float(sample_data.change[len(sample_data.change) - (i+1)]) <= -1.5:
        totx = totx + 1
        slote =  slote + 1
    if float(sample_data.change[len(sample_data.change) - i]) > -1.5 and float(sample_data.change[len(sample_data.change) - i]) <= 0 and float(sample_data.change[len(sample_data.change) - (i+1)]) > -1.5 and float(sample_data.change[len(sample_data.change) - (i+1)]) <= 0:
        totx = totx + 1
        slotf =  slotf + 1
    if float(sample_data.change[len(sample_data.change) - i]) > -1.5 and float(sample_data.change[len(sample_data.change) - i]) <= 0 and float(sample_data.change[len(sample_data.change) - (i+1)]) > 0 and float(sample_data.change[len(sample_data.change) - (i+1)]) <= 1:
        totx = totx + 1
        slotg =  slotg + 1
    if float(sample_data.change[len(sample_data.change) - i]) > -1.5 and float(sample_data.change[len(sample_data.change) - i]) <= 0 and float(sample_data.change[len(sample_data.change) - (i+1)]) > 1:
        totx = totx + 1
        sloth =  sloth + 1
    if float(sample_data.change[len(sample_data.change) - i]) > 0 and float(sample_data.change[len(sample_data.change) - i]) <= 1 and float(sample_data.change[len(sample_data.change) - (i+1)]) <= -1.5:
        toty = toty + 1
        sloti =  sloti + 1
    if float(sample_data.change[len(sample_data.change) - i]) > 0 and float(sample_data.change[len(sample_data.change) - i]) <= 1 and float(sample_data.change[len(sample_data.change) - (i+1)]) > -1.5 and float(sample_data.change[len(sample_data.change) - (i+1)]) <= 0:
        toty = toty + 1
        slotj =  slotj + 1
    if float(sample_data.change[len(sample_data.change) - i]) > 0 and float(sample_data.change[len(sample_data.change) - i]) <= 1 and float(sample_data.change[len(sample_data.change) - (i+1)]) > 0 and float(sample_data.change[len(sample_data.change) - (i+1)]) <= 1:
        toty = toty + 1
        slotk =  slotk + 1
    if float(sample_data.change[len(sample_data.change) - i]) > 0 and float(sample_data.change[len(sample_data.change) - i]) <= 1 and float(sample_data.change[len(sample_data.change) - (i+1)]) > 1:
        toty = toty + 1
        slotl =  slotl + 1
    if float(sample_data.change[len(sample_data.change) - i]) > 1 and float(sample_data.change[len(sample_data.change) - (i+1)]) <= -1.5:
        totz = totz + 1
        slotm =  slotm + 1
    if float(sample_data.change[len(sample_data.change) - i]) > 1 and float(sample_data.change[len(sample_data.change) - (i+1)]) > -1.5 and float(sample_data.change[len(sample_data.change) - (i+1)]) <= 0:
        totz = totz + 1
        slotn =  slotn + 1
    if float(sample_data.change[len(sample_data.change) - i]) > 1 and float(sample_data.change[len(sample_data.change) - (i+1)]) > 0 and float(sample_data.change[len(sample_data.change) - (i+1)]) <= 1:
        totz = totz + 1
        sloto =  sloto + 1
    if float(sample_data.change[len(sample_data.change) - i]) > 1 and float(sample_data.change[len(sample_data.change) - (i+1)]) > 1:
        totz = totz + 1
        slotp =  slotp + 1
        
        

import numpy as np

A = np.array([[slota/totw, slotb/totw, slotc/totw, slotd/totw], [slote/totx, slotf/totx, slotg/totx, sloth/totx],
             [sloti/toty, slotj/toty, slotk/toty, slotl/toty], [slotm/totz, slotn/totz, sloto/totz, slotp/totz]])
A 
