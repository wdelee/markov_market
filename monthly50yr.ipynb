#returns monthly S&P500 4x4 transition matrix based on past 50 yrs of daily S&P500 returns
#respective states from leftmost to rightmost column: 
#  change <= 5% 
#  -5% < change <= 0%
#  0% < change <= 4%
#  4% < change

import pandas as pd
from matplotlib import pyplot as plt

sample_data = pd.read_csv('S&P 500 Historical Data Monthly 50yr.csv')

for i in range(0, len(sample_data.change)):
    sample_data.change[i] = sample_data.change[i][:-1]

slota=0
slotb=0
slotc=0
slotd=0
slote=0
slotf=0
slotg=0
sloth=0
sloti=0
slotj=0
slotk=0
slotl=0
slotm=0
slotn=0
sloto=0
slotp=0

totw=0
totx=0
toty=0
totz=0

for i in range(1,len(sample_data.change)):
    
    if float(sample_data.change[len(sample_data.change) - i]) <= -5:
        totw = totw + 1
        if float(sample_data.change[len(sample_data.change) - (i+1)]) <= -5:           
            slota =  slota + 1
        if float(sample_data.change[len(sample_data.change) - (i+1)]) > -5 and float(sample_data.change[len(sample_data.change) - (i+1)]) <= 0:
            slotb =  slotb + 1
        if float(sample_data.change[len(sample_data.change) - (i+1)]) > 0 and float(sample_data.change[len(sample_data.change) - (i+1)]) <= 4:
            slotc = slotc + 1
        if float(sample_data.change[len(sample_data.change) - (i+1)]) > 4:
            slotd =  slotd + 1
        
        
    if float(sample_data.change[len(sample_data.change) - i]) > -5 and float(sample_data.change[len(sample_data.change) - i]) <= 0:
        totx = totx + 1
        if float(sample_data.change[len(sample_data.change) - (i+1)]) <= -5:
            slote =  slote + 1
        if float(sample_data.change[len(sample_data.change) - (i+1)]) > -5 and float(sample_data.change[len(sample_data.change) - (i+1)]) <= 0:
            slotf =  slotf + 1
        if float(sample_data.change[len(sample_data.change) - (i+1)]) > 0 and float(sample_data.change[len(sample_data.change) - (i+1)]) <= 4:
            slotg =  slotg + 1
        if float(sample_data.change[len(sample_data.change) - (i+1)]) > 4:
            sloth =  sloth + 1
        
        
    if float(sample_data.change[len(sample_data.change) - i]) > 0 and float(sample_data.change[len(sample_data.change) - i]) <= 4:
        toty = toty + 1
        if float(sample_data.change[len(sample_data.change) - (i+1)]) <= -5:
            sloti =  sloti + 1
        if float(sample_data.change[len(sample_data.change) - (i+1)]) > -5 and float(sample_data.change[len(sample_data.change) - (i+1)]) <= 0:
            slotj =  slotj + 1
        if float(sample_data.change[len(sample_data.change) - (i+1)]) > 0 and float(sample_data.change[len(sample_data.change) - (i+1)]) <= 4:
            slotk =  slotk + 1
        if float(sample_data.change[len(sample_data.change) - (i+1)]) > 4:
            slotl =  slotl + 1
        
        
    if float(sample_data.change[len(sample_data.change) - i]) > 4:
        totz = totz + 1
        if float(sample_data.change[len(sample_data.change) - (i+1)]) <= -5:
            slotm =  slotm + 1
        if float(sample_data.change[len(sample_data.change) - (i+1)]) > -5 and float(sample_data.change[len(sample_data.change) - (i+1)]) <= 0:
            slotn =  slotn + 1
        if float(sample_data.change[len(sample_data.change) - (i+1)]) > 0 and float(sample_data.change[len(sample_data.change) - (i+1)]) <= 4:
            sloto =  sloto + 1
        if float(sample_data.change[len(sample_data.change) - (i+1)]) > 4:
            slotp =  slotp + 1
        
        


import numpy as np

A = np.array([[slota/totw, slotb/totw, slotc/totw, slotd/totw], [slote/totx, slotf/totx, slotg/totx, sloth/totx],
             [sloti/toty, slotj/toty, slotk/toty, slotl/toty], [slotm/totz, slotn/totz, sloto/totz, slotp/totz]])
print(A) 
